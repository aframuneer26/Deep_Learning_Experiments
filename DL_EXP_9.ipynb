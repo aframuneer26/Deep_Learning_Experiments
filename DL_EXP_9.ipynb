{
  "cells": [
    {
      "cell_type": "markdown",
      "metadata": {
        "id": "view-in-github",
        "colab_type": "text"
      },
      "source": [
        "<a href=\"https://colab.research.google.com/github/aframuneer26/Deep_Learning_Experiments/blob/main/DL_EXP_9.ipynb\" target=\"_parent\"><img src=\"https://colab.research.google.com/assets/colab-badge.svg\" alt=\"Open In Colab\"/></a>"
      ]
    },
    {
      "cell_type": "code",
      "execution_count": null,
      "metadata": {
        "colab": {
          "background_save": true,
          "base_uri": "https://localhost:8080/"
        },
        "id": "7bHp26oxCmbJ",
        "outputId": "6cfc860d-d3ed-4585-a32d-a87780a04f95"
      },
      "outputs": [
        {
          "name": "stdout",
          "output_type": "stream",
          "text": [
            "Downloading data from https://raw.githubusercontent.com/karpathy/char-rnn/master/data/tinyshakespeare/input.txt\n",
            "\u001b[1m1115394/1115394\u001b[0m \u001b[32m━━━━━━━━━━━━━━━━━━━━\u001b[0m\u001b[37m\u001b[0m \u001b[1m0s\u001b[0m 0us/step\n"
          ]
        },
        {
          "name": "stderr",
          "output_type": "stream",
          "text": [
            "/usr/local/lib/python3.12/dist-packages/keras/src/layers/core/embedding.py:97: UserWarning: Argument `input_length` is deprecated. Just remove it.\n",
            "  warnings.warn(\n"
          ]
        },
        {
          "name": "stdout",
          "output_type": "stream",
          "text": [
            "\u001b[1m8714/8714\u001b[0m \u001b[32m━━━━━━━━━━━━━━━━━━━━\u001b[0m\u001b[37m\u001b[0m \u001b[1m713s\u001b[0m 82ms/step - loss: 2.1574\n",
            "\n",
            "Generated Text:\n",
            "\n",
            "shall i compare thee to a summer's day?\n",
            "\n",
            "grupio:\n",
            "becomary! they art of jetcly of wainst be.\n",
            "why, let he can my the it the thoush, aid,\n",
            "and and promshior tell liveed staing be,\n",
            "and not for keming i knows, lady's indeeds to'e;\n",
            "the naws.\n",
            "\n",
            "giech:\n",
            "lames king here that i they like this readen.\n",
            "\n",
            "play:\n",
            "witham.\n",
            "\n",
            "costessingaa:\n",
            "boight, i well the ha\n"
          ]
        }
      ],
      "source": [
        " import tensorflow as tf\n",
        "import numpy as np\n",
        "\n",
        "# Load dataset\n",
        "text_path = tf.keras.utils.get_file('shakespeare.txt',\n",
        "    'https://raw.githubusercontent.com/karpathy/char-rnn/master/data/tinyshakespeare/input.txt')\n",
        "text = open(text_path, 'r').read().lower()\n",
        "chars = sorted(set(text))\n",
        "c2i = {c:i for i,c in enumerate(chars)}\n",
        "i2c = {i:c for i,c in enumerate(chars)}\n",
        "\n",
        "# Create sequences\n",
        "seq_len = 40\n",
        "X, y = [], []\n",
        "for i in range(len(text)-seq_len):\n",
        "    X.append([c2i[c] for c in text[i:i+seq_len]])\n",
        "    y.append(c2i[text[i+seq_len]])\n",
        "X, y = np.array(X), np.array(y)\n",
        "\n",
        "# Build LSTM model\n",
        "model = tf.keras.Sequential([\n",
        "    tf.keras.layers.Embedding(len(chars), 64, input_length=seq_len),\n",
        "    tf.keras.layers.LSTM(128),\n",
        "    tf.keras.layers.Dense(len(chars), activation='softmax')\n",
        "])\n",
        "model.compile(loss='sparse_categorical_crossentropy', optimizer='adam')\n",
        "model.fit(X, y, batch_size=128, epochs=1)\n",
        "\n",
        "# Text generation\n",
        "def generate(seed, length=300):\n",
        "    seq = [c2i[c] for c in seed.lower()]\n",
        "    for _ in range(length):\n",
        "        inp = np.array(seq[-seq_len:]).reshape(1,-1)\n",
        "        pred = model.predict(inp, verbose=0)[0]\n",
        "        next_idx = np.random.choice(len(pred), p=pred)\n",
        "        seq.append(next_idx)\n",
        "    return seed + ''.join(i2c[i] for i in seq[len(seed):])\n",
        "\n",
        "# Generate text\n",
        "print(\"\\nGenerated Text:\\n\")\n",
        "print(generate(\"shall i compare thee to a summer's day?\\n\"))"
      ]
    }
  ],
  "metadata": {
    "colab": {
      "provenance": [],
      "include_colab_link": true
    },
    "kernelspec": {
      "display_name": "Python 3",
      "name": "python3"
    },
    "language_info": {
      "name": "python"
    }
  },
  "nbformat": 4,
  "nbformat_minor": 0
}