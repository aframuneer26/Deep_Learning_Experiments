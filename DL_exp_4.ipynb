{
  "nbformat": 4,
  "nbformat_minor": 0,
  "metadata": {
    "colab": {
      "provenance": [],
      "include_colab_link": true
    },
    "kernelspec": {
      "name": "python3",
      "display_name": "Python 3"
    },
    "language_info": {
      "name": "python"
    }
  },
  "cells": [
    {
      "cell_type": "markdown",
      "metadata": {
        "id": "view-in-github",
        "colab_type": "text"
      },
      "source": [
        "<a href=\"https://colab.research.google.com/github/aframuneer26/Deep_Learning_Experiments/blob/main/DL_exp_4.ipynb\" target=\"_parent\"><img src=\"https://colab.research.google.com/assets/colab-badge.svg\" alt=\"Open In Colab\"/></a>"
      ]
    },
    {
      "cell_type": "code",
      "execution_count": null,
      "metadata": {
        "id": "flcGyDivn0qh",
        "colab": {
          "base_uri": "https://localhost:8080/"
        },
        "outputId": "5aa8286e-e779-4d10-e14f-0a36d8d6aec2"
      },
      "outputs": [
        {
          "output_type": "stream",
          "name": "stderr",
          "text": [
            "100%|██████████| 170M/170M [00:03<00:00, 48.0MB/s]\n"
          ]
        },
        {
          "output_type": "stream",
          "name": "stdout",
          "text": [
            "Classes: ['airplane', 'automobile', 'bird', 'cat', 'deer', 'dog', 'frog', 'horse', 'ship', 'truck']\n",
            "Using device: cpu\n",
            "Epoch 1/10, Loss: 1.4150\n",
            "Epoch 2/10, Loss: 1.0804\n",
            "Epoch 3/10, Loss: 0.9309\n",
            "Epoch 4/10, Loss: 0.8305\n",
            "Epoch 5/10, Loss: 0.7496\n",
            "Epoch 6/10, Loss: 0.6788\n",
            "Epoch 7/10, Loss: 0.6132\n",
            "Epoch 8/10, Loss: 0.5494\n",
            "Epoch 9/10, Loss: 0.4875\n",
            "Epoch 10/10, Loss: 0.4341\n",
            "Accuracy on test data: 69.31%\n"
          ]
        },
        {
          "output_type": "display_data",
          "data": {
            "text/plain": [
              "<Figure size 1500x400 with 8 Axes>"
            ],
            "image/png": "[encoded data removed]"
          },
          "metadata": {}
        }
      ],
      "source": [
        "# Step 1: Load and Preprocess CIFAR-10 Dataset\n",
        "import torch\n",
        "import torchvision\n",
        "import torchvision.transforms as transforms\n",
        "import torch.nn as nn\n",
        "import torch.optim as optim\n",
        "import matplotlib.pyplot as plt\n",
        "\n",
        "# Transformations: Convert to tensor and normalize for 3-channel images\n",
        "transform = transforms.Compose([\n",
        "    transforms.ToTensor(),\n",
        "    transforms.Normalize((0.5, 0.5, 0.5), (0.5, 0.5, 0.5))\n",
        "])\n",
        "\n",
        "# Training dataset & loader\n",
        "trainset = torchvision.datasets.CIFAR10(\n",
        "    root='./data', train=True, download=True, transform=transform\n",
        ")\n",
        "trainloader = torch.utils.data.DataLoader(trainset, batch_size=64, shuffle=True)\n",
        "\n",
        "# Test dataset & loader\n",
        "testset = torchvision.datasets.CIFAR10(\n",
        "    root='./data', train=False, download=True, transform=transform\n",
        ")\n",
        "testloader = torch.utils.data.DataLoader(testset, batch_size=64, shuffle=False)\n",
        "\n",
        "# Class names\n",
        "classes = trainset.classes\n",
        "print(\"Classes:\", classes)\n",
        "\n",
        "# Step 2: Define CNN Architecture\n",
        "class SimpleCNN(nn.Module):\n",
        "    def __init__(self):\n",
        "        super(SimpleCNN, self).__init__()\n",
        "        self.conv1 = nn.Conv2d(3, 16, 3, padding=1)   # Output: 16x32x32\n",
        "        self.pool = nn.MaxPool2d(2, 2)                # After pool: 16x16x16\n",
        "        self.conv2 = nn.Conv2d(16, 32, 3, padding=1)  # Output: 32x16x16 → 32x8x8\n",
        "        self.fc1 = nn.Linear(32 * 8 * 8, 128)\n",
        "        self.fc2 = nn.Linear(128, 10)\n",
        "        self.relu = nn.ReLU()\n",
        "\n",
        "    def forward(self, x):\n",
        "        x = self.pool(self.relu(self.conv1(x)))\n",
        "        x = self.pool(self.relu(self.conv2(x)))\n",
        "        x = x.view(-1, 32 * 8 * 8)   # Flatten\n",
        "        x = self.relu(self.fc1(x))\n",
        "        x = self.fc2(x)\n",
        "        return x\n",
        "\n",
        "# Step 3: Train the CNN\n",
        "device = torch.device(\"cuda\" if torch.cuda.is_available() else \"cpu\")\n",
        "print(\"Using device:\", device)\n",
        "\n",
        "model = SimpleCNN().to(device)\n",
        "lossfn = nn.CrossEntropyLoss()\n",
        "optimizer = optim.Adam(model.parameters(), lr=0.001)\n",
        "\n",
        "epochs = 10\n",
        "for epoch in range(epochs):\n",
        "    running_loss = 0.0\n",
        "    for inputs, labels in trainloader:\n",
        "        inputs, labels = inputs.to(device), labels.to(device)\n",
        "\n",
        "        optimizer.zero_grad()\n",
        "        outputs = model(inputs)\n",
        "        loss = lossfn(outputs, labels)\n",
        "        loss.backward()\n",
        "        optimizer.step()\n",
        "\n",
        "        running_loss += loss.item()\n",
        "\n",
        "    print(f\"Epoch {epoch+1}/{epochs}, Loss: {running_loss / len(trainloader):.4f}\")\n",
        "\n",
        "# Step 4: Evaluate Model Performance\n",
        "correct, total = 0, 0\n",
        "model.eval()\n",
        "with torch.no_grad():\n",
        "    for images, labels in testloader:\n",
        "        images, labels = images.to(device), labels.to(device)\n",
        "        outputs = model(images)\n",
        "        _, predicted = outputs.max(1)\n",
        "        total += labels.size(0)\n",
        "        correct += (predicted == labels).sum().item()\n",
        "\n",
        "print(f\"Accuracy on test data: {100 * correct / total:.2f}%\")\n",
        "\n",
        "# Step 5: Visualize Learned Filters\n",
        "def visualize_filters(layer, n_filters=8):\n",
        "    filters = layer.weight.data.clone().cpu()\n",
        "    fig, axs = plt.subplots(1, n_filters, figsize=(15, 4))\n",
        "    for i in range(n_filters):\n",
        "        f = filters[i]\n",
        "        f = (f - f.min()) / (f.max() - f.min())  # Normalize for display\n",
        "        axs[i].imshow(f.permute(1, 2, 0))\n",
        "        axs[i].axis('off')\n",
        "        axs[i].set_title(f'Filter {i+1}')\n",
        "    plt.tight_layout()\n",
        "    plt.show()\n",
        "\n",
        "visualize_filters(model.conv1)\n"
      ]
    }
  ]
}