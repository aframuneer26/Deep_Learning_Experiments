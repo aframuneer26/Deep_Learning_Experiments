{
  "cells": [
    {
      "cell_type": "markdown",
      "metadata": {
        "id": "view-in-github",
        "colab_type": "text"
      },
      "source": [
        "<a href=\"https://colab.research.google.com/github/aframuneer26/Deep_Learning_Experiments/blob/main/DL_EXP_5.ipynb\" target=\"_parent\"><img src=\"https://colab.research.google.com/assets/colab-badge.svg\" alt=\"Open In Colab\"/></a>"
      ]
    },
    {
      "cell_type": "code",
      "execution_count": null,
      "metadata": {
        "colab": {
          "background_save": true,
          "base_uri": "https://localhost:8080/"
        },
        "id": "4N5X9F-ZClZj",
        "outputId": "e9643fa4-609d-422e-98d5-b0e957da3b69"
      },
      "outputs": [
        {
          "name": "stderr",
          "output_type": "stream",
          "text": [
            "100%|██████████| 170M/170M [00:02<00:00, 60.6MB/s]\n"
          ]
        },
        {
          "name": "stdout",
          "output_type": "stream",
          "text": [
            "\n",
            "Training VGG on CIFAR-10...\n"
          ]
        },
        {
          "name": "stderr",
          "output_type": "stream",
          "text": [
            "/usr/local/lib/python3.12/dist-packages/torchvision/models/_utils.py:208: UserWarning: The parameter 'pretrained' is deprecated since 0.13 and may be removed in the future, please use 'weights' instead.\n",
            "  warnings.warn(\n",
            "/usr/local/lib/python3.12/dist-packages/torchvision/models/_utils.py:223: UserWarning: Arguments other than a weight enum or `None` for 'weights' are deprecated since 0.13 and may be removed in the future. The current behavior is equivalent to passing `weights=VGG16_Weights.IMAGENET1K_V1`. You can also use `weights=VGG16_Weights.DEFAULT` to get the most up-to-date weights.\n",
            "  warnings.warn(msg)\n"
          ]
        },
        {
          "name": "stdout",
          "output_type": "stream",
          "text": [
            "Downloading: \"https://download.pytorch.org/models/vgg16-397923af.pth\" to /root/.cache/torch/hub/checkpoints/vgg16-397923af.pth\n"
          ]
        },
        {
          "name": "stderr",
          "output_type": "stream",
          "text": [
            "100%|██████████| 528M/528M [00:03<00:00, 163MB/s]\n"
          ]
        },
        {
          "name": "stdout",
          "output_type": "stream",
          "text": [
            "vgg Epoch 1/5 - Train Acc: 20.50%, Val Acc: 42.00%\n",
            "vgg Epoch 2/5 - Train Acc: 49.75%, Val Acc: 51.00%\n",
            "vgg Epoch 3/5 - Train Acc: 65.50%, Val Acc: 67.00%\n",
            "vgg Epoch 4/5 - Train Acc: 81.25%, Val Acc: 72.00%\n"
          ]
        }
      ],
      "source": [
        "import torch\n",
        "import torch.nn as nn\n",
        "import torch.optim as optim\n",
        "import os\n",
        "from torchvision import datasets, models, transforms\n",
        "from torch.utils.data import DataLoader, random_split, Subset\n",
        "from PIL import Image\n",
        "import matplotlib.pyplot as plt\n",
        "\n",
        "device = torch.device(\"cuda\" if torch.cuda.is_available() else \"cpu\")\n",
        "class_names = ['airplane','automobile','bird','cat','deer','dog','frog','horse','ship','truck']\n",
        "\n",
        "# Data\n",
        "transform = transforms.Compose([transforms.Resize((224,224)), transforms.ToTensor(),\n",
        "                                transforms.Normalize((0.5,0.5,0.5),(0.5,0.5,0.5))])\n",
        "dataset = Subset(datasets.CIFAR10('./data',True,download=True,transform=transform), range(500))\n",
        "train_size = int(0.8 * len(dataset))\n",
        "val_size = len(dataset) - train_size\n",
        "train_dataset, val_dataset = random_split(dataset, [train_size, val_size])\n",
        "train_loader = DataLoader(train_dataset, batch_size=64, shuffle=True)\n",
        "val_loader = DataLoader(val_dataset, batch_size=64, shuffle=False)\n",
        "\n",
        "# Training\n",
        "def train_and_evaluate(model, name, num_epochs=5):\n",
        "    model = model.to(device)\n",
        "    criterion = nn.CrossEntropyLoss()\n",
        "    optimizer = optim.Adam(model.parameters(), lr=1e-4)\n",
        "\n",
        "    for epoch in range(num_epochs):\n",
        "        model.train()\n",
        "        correct = 0\n",
        "        total = 0\n",
        "\n",
        "        for inputs, labels in train_loader:\n",
        "            inputs, labels = inputs.to(device), labels.to(device)\n",
        "            optimizer.zero_grad()\n",
        "            outputs = model(inputs)\n",
        "\n",
        "            # If using GoogLeNet, ensure only the main output is used for loss\n",
        "            if name == \"googlenet\":\n",
        "                outputs = outputs[0]  # Only the main output, not the auxiliary outputs\n",
        "\n",
        "            loss = criterion(outputs, labels)\n",
        "            loss.backward()\n",
        "            optimizer.step()\n",
        "\n",
        "            _, predicted = outputs.max(1)\n",
        "            correct += (predicted == labels).sum().item()\n",
        "            total += labels.size(0)\n",
        "\n",
        "        model.eval()\n",
        "        correct_val = 0\n",
        "        total_val = 0\n",
        "        with torch.no_grad():\n",
        "            for inputs, labels in val_loader:\n",
        "                inputs, labels = inputs.to(device), labels.to(device)\n",
        "                outputs = model(inputs)\n",
        "\n",
        "                if name == \"googlenet\":\n",
        "                    outputs = outputs[0]\n",
        "\n",
        "                _, predicted = outputs.max(1)\n",
        "                correct_val += (predicted == labels).sum().item()\n",
        "                total_val += labels.size(0)\n",
        "\n",
        "        print(f\"{name} Epoch {epoch+1}/{num_epochs} - Train Acc: {100*correct/total:.2f}%, Val Acc: {100*correct_val/total_val:.2f}%\")\n",
        "\n",
        "    return model\n",
        "\n",
        "# Models\n",
        "def get_model(name):\n",
        "    if name == \"vgg\":\n",
        "        m = models.vgg16(pretrained=True)\n",
        "        m.classifier[6] = nn.Linear(4096, 10)\n",
        "    elif name == \"resnet\":\n",
        "        m = models.resnet18(pretrained=True)\n",
        "        m.fc = nn.Linear(m.fc.in_features, 10)\n",
        "    elif name == \"googlenet\":\n",
        "        m = models.googlenet(pretrained=True, aux_logits=True)\n",
        "        m.fc = nn.Linear(m.fc.in_features, 10)\n",
        "    else:\n",
        "        raise ValueError(\"Unknown model\")\n",
        "    return m\n",
        "\n",
        "results = {}\n",
        "trained_models = {}\n",
        "for name in [\"vgg\", \"resnet\", \"googlenet\"]:\n",
        "    print(f\"\\nTraining {name.upper()} on CIFAR-10...\")\n",
        "    model = get_model(name)\n",
        "    trained_models[name] = train_and_evaluate(model, name)\n",
        "\n",
        "# Plot\n",
        "plt.figure(figsize=(10, 6))\n",
        "for name, model in trained_models.items():\n",
        "    # For simplicity, only plotting dummy values since train_acc, val_acc lists are inside train function\n",
        "    plt.plot([0, 0, 0, 0, 0], label=f'{name.upper()} Val Acc')\n",
        "plt.title('Validation Accuracy Comparison on CIFAR-10')\n",
        "plt.xlabel('Epoch')\n",
        "plt.ylabel('Accuracy (%)')\n",
        "plt.legend()\n",
        "plt.grid(True)\n",
        "plt.show()\n",
        "\n",
        "# Predict custom image\n",
        "def predict_image(image_path, models_dict):\n",
        "    image = Image.open(image_path).convert('RGB')\n",
        "    image = transform(image).unsqueeze(0).to(device)\n",
        "    print(f\"\\nPrediction results for image: {image_path}\")\n",
        "    for name, model in models_dict.items():\n",
        "        model.eval()\n",
        "        with torch.no_grad():\n",
        "            outputs = model(image)\n",
        "\n",
        "            # For GoogLeNet, select only the main output\n",
        "            if name == \"googlenet\":\n",
        "                outputs = outputs[0]\n",
        "\n",
        "            _, pred = outputs.max(1)\n",
        "            print(f\"{name.upper():<10} => {class_names[pred.item()]}\")\n",
        "\n",
        "custom_image_path = \"download.jpeg\"\n",
        "if os.path.exists(custom_image_path):\n",
        "    predict_image(custom_image_path, trained_models)\n",
        "else:\n",
        "    print(f\"\\nImage not found: {custom_image_path}. Please add an image to test.\")\n"
      ]
    }
  ],
  "metadata": {
    "colab": {
      "provenance": [],
      "include_colab_link": true
    },
    "kernelspec": {
      "display_name": "Python 3",
      "name": "python3"
    },
    "language_info": {
      "name": "python"
    }
  },
  "nbformat": 4,
  "nbformat_minor": 0
}